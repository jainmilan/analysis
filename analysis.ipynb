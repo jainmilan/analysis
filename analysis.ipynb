{
 "cells": [
  {
   "cell_type": "code",
   "execution_count": 1,
   "metadata": {
    "collapsed": true
   },
   "outputs": [],
   "source": [
    "import json\n",
    "import numpy\n",
    "import pandas\n",
    "import matplotlib\n",
    "import matplotlib.pyplot as plt\n",
    "\n",
    "from smapanalysis import analyze\n",
    "from sklearn.cluster import KMeans\n",
    "\n",
    "matplotlib.style.use('fivethirtyeight')\n",
    "#%matplotlib inline"
   ]
  },
  {
   "cell_type": "code",
   "execution_count": 2,
   "metadata": {
    "collapsed": false
   },
   "outputs": [
    {
     "name": "stdout",
     "output_type": "stream",
     "text": [
      "               Room  Type    Event Attemps Baseline NewID NewBaseline\n",
      "ActivityID                                                           \n",
      "BRD4A2      Bedroom  IoDW  AllOpen  BRD4A2  BRD10A2                  \n",
      "http://192.168.1.38:9106/api/data/uuid/8b901bab-6bb6-5461-a4b4-b2d43c482cc6?endtime=1434097800000&starttime=1434090600000&limit=-1\n",
      "               Room  Type    Event Attemps Baseline NewID NewBaseline\n",
      "ActivityID                                                           \n",
      "BRD4A2      Bedroom  IoDW  AllOpen  BRD4A2  BRD10A2                  \n",
      "http://192.168.1.38:2047/api/data/uuid/e96fe108-fa8d-571a-ae78-13be76b21d48?endtime=1434097800000&starttime=1434090600000&limit=-1\n",
      "               Room  Type     Event         Attemps Baseline NewID NewBaseline\n",
      "ActivityID                                                                    \n",
      "BRD9A1      Bedroom  IoDW  AllClose  BRD1A1, BRD9A1  BRD10A1                  \n",
      "http://192.168.1.38:9106/api/data/uuid/8b901bab-6bb6-5461-a4b4-b2d43c482cc6?endtime=1434524400000&starttime=1434517200000&limit=-1\n",
      "               Room  Type     Event         Attemps Baseline NewID NewBaseline\n",
      "ActivityID                                                                    \n",
      "BRD9A1      Bedroom  IoDW  AllClose  BRD1A1, BRD9A1  BRD10A1                  \n",
      "http://192.168.1.38:2047/api/data/uuid/e96fe108-fa8d-571a-ae78-13be76b21d48?endtime=1434524400000&starttime=1434517200000&limit=-1\n",
      "               Room  Type     Event                          Attemps Baseline  \\\n",
      "ActivityID                                                                      \n",
      "BRD8A1      Bedroom  IoDW  Window50  BRD2A2, BRD5A1, BRD8A1, BRD13A2  BRD10A1   \n",
      "\n",
      "              NewID NewBaseline  \n",
      "ActivityID                       \n",
      "BRD8A1      BRD13A2              \n",
      "http://192.168.1.38:9106/api/data/uuid/8b901bab-6bb6-5461-a4b4-b2d43c482cc6?endtime=1434438000000&starttime=1434430800000&limit=-1\n",
      "               Room  Type     Event                          Attemps Baseline  \\\n",
      "ActivityID                                                                      \n",
      "BRD8A1      Bedroom  IoDW  Window50  BRD2A2, BRD5A1, BRD8A1, BRD13A2  BRD10A1   \n",
      "\n",
      "              NewID NewBaseline  \n",
      "ActivityID                       \n",
      "BRD8A1      BRD13A2              \n",
      "http://192.168.1.38:2047/api/data/uuid/e96fe108-fa8d-571a-ae78-13be76b21d48?endtime=1434438000000&starttime=1434430800000&limit=-1\n",
      "               Room  Type      Event          Attemps Baseline    NewID  \\\n",
      "ActivityID                                                                \n",
      "BRD3A1      Bedroom  IoDW  Window100  BRD3A1, BRD13A1  BRD10A1  BRD13A1   \n",
      "\n",
      "           NewBaseline  \n",
      "ActivityID              \n",
      "BRD3A1                  \n",
      "http://192.168.1.38:9106/api/data/uuid/8b901bab-6bb6-5461-a4b4-b2d43c482cc6?endtime=1434006000000&starttime=1433998800000&limit=-1\n",
      "               Room  Type      Event          Attemps Baseline    NewID  \\\n",
      "ActivityID                                                                \n",
      "BRD3A1      Bedroom  IoDW  Window100  BRD3A1, BRD13A1  BRD10A1  BRD13A1   \n",
      "\n",
      "           NewBaseline  \n",
      "ActivityID              \n",
      "BRD3A1                  \n",
      "http://192.168.1.38:2047/api/data/uuid/e96fe108-fa8d-571a-ae78-13be76b21d48?endtime=1434006000000&starttime=1433998800000&limit=-1\n",
      "               Room  Type       Event                  Attemps Baseline NewID  \\\n",
      "ActivityID                                                                      \n",
      "BRD9A2      Bedroom  IoDW  MainDoor50  BRD1A2, BRD9A2, BRD10A1  BRD10A2         \n",
      "\n",
      "           NewBaseline  \n",
      "ActivityID              \n",
      "BRD9A2                  \n",
      "http://192.168.1.38:9106/api/data/uuid/8b901bab-6bb6-5461-a4b4-b2d43c482cc6?endtime=1434529800000&starttime=1434522600000&limit=-1\n",
      "               Room  Type       Event                  Attemps Baseline NewID  \\\n",
      "ActivityID                                                                      \n",
      "BRD9A2      Bedroom  IoDW  MainDoor50  BRD1A2, BRD9A2, BRD10A1  BRD10A2         \n",
      "\n",
      "           NewBaseline  \n",
      "ActivityID              \n",
      "BRD9A2                  \n",
      "http://192.168.1.38:2047/api/data/uuid/e96fe108-fa8d-571a-ae78-13be76b21d48?endtime=1434529800000&starttime=1434522600000&limit=-1\n",
      "               Room  Type        Event                          Attemps  \\\n",
      "ActivityID                                                                \n",
      "BRD8A2      Bedroom  IoDW  MainDoor100  BRD2A1, BRD5A2, BRD8A2, BRD11A1   \n",
      "\n",
      "           Baseline    NewID NewBaseline  \n",
      "ActivityID                                \n",
      "BRD8A2      BRD10A2  BRD11A1              \n",
      "http://192.168.1.38:9106/api/data/uuid/8b901bab-6bb6-5461-a4b4-b2d43c482cc6?endtime=1434443400000&starttime=1434436200000&limit=-1\n",
      "               Room  Type        Event                          Attemps  \\\n",
      "ActivityID                                                                \n",
      "BRD8A2      Bedroom  IoDW  MainDoor100  BRD2A1, BRD5A2, BRD8A2, BRD11A1   \n",
      "\n",
      "           Baseline    NewID NewBaseline  \n",
      "ActivityID                                \n",
      "BRD8A2      BRD10A2  BRD11A1              \n",
      "http://192.168.1.38:2047/api/data/uuid/e96fe108-fa8d-571a-ae78-13be76b21d48?endtime=1434443400000&starttime=1434436200000&limit=-1\n",
      "               Room  Type            Event          Attemps Baseline NewID  \\\n",
      "ActivityID                                                                   \n",
      "BRD3A2      Bedroom  IoDW  SecondaryDoor50  BRD3A2, BRD10A2  BRD10A2         \n",
      "\n",
      "           NewBaseline  \n",
      "ActivityID              \n",
      "BRD3A2                  \n",
      "http://192.168.1.38:9106/api/data/uuid/8b901bab-6bb6-5461-a4b4-b2d43c482cc6?endtime=1434011400000&starttime=1434004200000&limit=-1\n",
      "               Room  Type            Event          Attemps Baseline NewID  \\\n",
      "ActivityID                                                                   \n",
      "BRD3A2      Bedroom  IoDW  SecondaryDoor50  BRD3A2, BRD10A2  BRD10A2         \n",
      "\n",
      "           NewBaseline  \n",
      "ActivityID              \n",
      "BRD3A2                  \n",
      "http://192.168.1.38:2047/api/data/uuid/e96fe108-fa8d-571a-ae78-13be76b21d48?endtime=1434011400000&starttime=1434004200000&limit=-1\n",
      "               Room  Type             Event          Attemps Baseline  \\\n",
      "ActivityID                                                              \n",
      "BRD4A1      Bedroom  IoDW  SecondaryDoor100  BRD4A1, BRD11A2  BRD10A1   \n",
      "\n",
      "              NewID NewBaseline  \n",
      "ActivityID                       \n",
      "BRD4A1      BRD11A2              \n",
      "http://192.168.1.38:9106/api/data/uuid/8b901bab-6bb6-5461-a4b4-b2d43c482cc6?endtime=1434092400000&starttime=1434085200000&limit=-1\n",
      "               Room  Type             Event          Attemps Baseline  \\\n",
      "ActivityID                                                              \n",
      "BRD4A1      Bedroom  IoDW  SecondaryDoor100  BRD4A1, BRD11A2  BRD10A1   \n",
      "\n",
      "              NewID NewBaseline  \n",
      "ActivityID                       \n",
      "BRD4A1      BRD11A2              \n",
      "http://192.168.1.38:2047/api/data/uuid/e96fe108-fa8d-571a-ae78-13be76b21d48?endtime=1434092400000&starttime=1434085200000&limit=-1\n"
     ]
    }
   ],
   "source": [
    "config_file = \"meta-info/data.json\"\n",
    "\n",
    "# Process and read configurations\n",
    "with open(config_file) as data_file:\n",
    "    conf = json.load(data_file)\n",
    "\n",
    "activities = [\"AllOpen\", \"AllClose\", \"Window50\", \"Window100\", \"MainDoor50\", \"MainDoor100\", \"SecondaryDoor50\", \\\n",
    "              \"SecondaryDoor100\"]\n",
    "room = [\"Bedroom\"]\n",
    "\n",
    "peaks, df = analyze.peak_analysis(activities, room, conf)"
   ]
  },
  {
   "cell_type": "code",
   "execution_count": 3,
   "metadata": {
    "collapsed": false
   },
   "outputs": [
    {
     "name": "stdout",
     "output_type": "stream",
     "text": [
      "                  Room  Type    Event Attemps Baseline NewID NewBaseline\n",
      "ActivityID                                                              \n",
      "LRD4A2      Livingroom  IoDW  AllOpen  LRD4A2   LRD9A2                  \n",
      "http://192.168.1.38:9106/api/data/uuid/8b901bab-6bb6-5461-a4b4-b2d43c482cc6?endtime=1434097800000&starttime=1434090600000&limit=-1\n",
      "                  Room  Type    Event Attemps Baseline NewID NewBaseline\n",
      "ActivityID                                                              \n",
      "LRD4A2      Livingroom  IoDW  AllOpen  LRD4A2   LRD9A2                  \n",
      "http://192.168.1.38:2047/api/data/uuid/e96fe108-fa8d-571a-ae78-13be76b21d48?endtime=1434097800000&starttime=1434090600000&limit=-1\n",
      "                  Room  Type     Event                 Attemps Baseline NewID  \\\n",
      "ActivityID                                                                      \n",
      "LRD5A1      Livingroom  IoDW  AllClose  LRD1A1, LRD5A5, LRD8A1   LRD9A1         \n",
      "\n",
      "           NewBaseline  \n",
      "ActivityID              \n",
      "LRD5A1                  \n",
      "http://192.168.1.38:9106/api/data/uuid/8b901bab-6bb6-5461-a4b4-b2d43c482cc6?endtime=1434178800000&starttime=1434171600000&limit=-1\n",
      "                  Room  Type     Event                 Attemps Baseline NewID  \\\n",
      "ActivityID                                                                      \n",
      "LRD5A1      Livingroom  IoDW  AllClose  LRD1A1, LRD5A5, LRD8A1   LRD9A1         \n",
      "\n",
      "           NewBaseline  \n",
      "ActivityID              \n",
      "LRD5A1                  \n",
      "http://192.168.1.38:2047/api/data/uuid/e96fe108-fa8d-571a-ae78-13be76b21d48?endtime=1434178800000&starttime=1434171600000&limit=-1\n",
      "                  Room  Type     Event          Attemps Baseline    NewID  \\\n",
      "ActivityID                                                                  \n",
      "LRD2A2      Livingroom  IoDW  Window50  LRD2A2, LRD13A1   LRD9A2  LRD13A1   \n",
      "\n",
      "           NewBaseline  \n",
      "ActivityID              \n",
      "LRD2A2                  \n",
      "http://192.168.1.38:9106/api/data/uuid/8b901bab-6bb6-5461-a4b4-b2d43c482cc6?endtime=1433925000000&starttime=1433917800000&limit=-1\n",
      "                  Room  Type     Event          Attemps Baseline    NewID  \\\n",
      "ActivityID                                                                  \n",
      "LRD2A2      Livingroom  IoDW  Window50  LRD2A2, LRD13A1   LRD9A2  LRD13A1   \n",
      "\n",
      "           NewBaseline  \n",
      "ActivityID              \n",
      "LRD2A2                  \n",
      "http://192.168.1.38:2047/api/data/uuid/e96fe108-fa8d-571a-ae78-13be76b21d48?endtime=1433925000000&starttime=1433917800000&limit=-1\n",
      "                  Room  Type      Event          Attemps Baseline    NewID  \\\n",
      "ActivityID                                                                   \n",
      "LRD3A1      Livingroom  IoDW  Window100  LRD3A1, LRD13A2   LRD9A1  LRD13A2   \n",
      "\n",
      "           NewBaseline  \n",
      "ActivityID              \n",
      "LRD3A1                  \n",
      "http://192.168.1.38:9106/api/data/uuid/8b901bab-6bb6-5461-a4b4-b2d43c482cc6?endtime=1434006000000&starttime=1433998800000&limit=-1\n",
      "                  Room  Type      Event          Attemps Baseline    NewID  \\\n",
      "ActivityID                                                                   \n",
      "LRD3A1      Livingroom  IoDW  Window100  LRD3A1, LRD13A2   LRD9A1  LRD13A2   \n",
      "\n",
      "           NewBaseline  \n",
      "ActivityID              \n",
      "LRD3A1                  \n",
      "http://192.168.1.38:2047/api/data/uuid/e96fe108-fa8d-571a-ae78-13be76b21d48?endtime=1434006000000&starttime=1433998800000&limit=-1\n",
      "                  Room  Type       Event                          Attemps  \\\n",
      "ActivityID                                                                  \n",
      "LRD8A2      Livingroom  IoDW  MainDoor50  LRD1A2, LRD5A2, LRD8A2, LRD10A2   \n",
      "\n",
      "           Baseline NewID NewBaseline  \n",
      "ActivityID                             \n",
      "LRD8A2       LRD9A2                    \n",
      "http://192.168.1.38:9106/api/data/uuid/8b901bab-6bb6-5461-a4b4-b2d43c482cc6?endtime=1434443400000&starttime=1434436200000&limit=-1\n",
      "                  Room  Type       Event                          Attemps  \\\n",
      "ActivityID                                                                  \n",
      "LRD8A2      Livingroom  IoDW  MainDoor50  LRD1A2, LRD5A2, LRD8A2, LRD10A2   \n",
      "\n",
      "           Baseline NewID NewBaseline  \n",
      "ActivityID                             \n",
      "LRD8A2       LRD9A2                    \n",
      "http://192.168.1.38:2047/api/data/uuid/e96fe108-fa8d-571a-ae78-13be76b21d48?endtime=1434443400000&starttime=1434436200000&limit=-1\n",
      "                  Room  Type        Event          Attemps Baseline    NewID  \\\n",
      "ActivityID                                                                     \n",
      "LRD2A1      Livingroom  IoDW  MainDoor100  LRD2A1, LRD11A2   LRD9A1  LRD11A2   \n",
      "\n",
      "           NewBaseline  \n",
      "ActivityID              \n",
      "LRD2A1                  \n",
      "http://192.168.1.38:9106/api/data/uuid/8b901bab-6bb6-5461-a4b4-b2d43c482cc6?endtime=1433919600000&starttime=1433912400000&limit=-1\n",
      "                  Room  Type        Event          Attemps Baseline    NewID  \\\n",
      "ActivityID                                                                     \n",
      "LRD2A1      Livingroom  IoDW  MainDoor100  LRD2A1, LRD11A2   LRD9A1  LRD11A2   \n",
      "\n",
      "           NewBaseline  \n",
      "ActivityID              \n",
      "LRD2A1                  \n",
      "http://192.168.1.38:2047/api/data/uuid/e96fe108-fa8d-571a-ae78-13be76b21d48?endtime=1433919600000&starttime=1433912400000&limit=-1\n",
      "                  Room  Type            Event          Attemps Baseline NewID  \\\n",
      "ActivityID                                                                      \n",
      "LRD3A2      Livingroom  IoDW  SecondaryDoor50  LRD3A2, LRD10A1   LRD9A2         \n",
      "\n",
      "           NewBaseline  \n",
      "ActivityID              \n",
      "LRD3A2                  \n",
      "http://192.168.1.38:9106/api/data/uuid/8b901bab-6bb6-5461-a4b4-b2d43c482cc6?endtime=1434011400000&starttime=1434004200000&limit=-1\n",
      "                  Room  Type            Event          Attemps Baseline NewID  \\\n",
      "ActivityID                                                                      \n",
      "LRD3A2      Livingroom  IoDW  SecondaryDoor50  LRD3A2, LRD10A1   LRD9A2         \n",
      "\n",
      "           NewBaseline  \n",
      "ActivityID              \n",
      "LRD3A2                  \n",
      "http://192.168.1.38:2047/api/data/uuid/e96fe108-fa8d-571a-ae78-13be76b21d48?endtime=1434011400000&starttime=1434004200000&limit=-1\n",
      "                  Room  Type             Event          Attemps Baseline  \\\n",
      "ActivityID                                                                 \n",
      "LRD4A1      Livingroom  IoDW  SecondaryDoor100  LRD4A1, LRD11A1   LRD9A1   \n",
      "\n",
      "              NewID NewBaseline  \n",
      "ActivityID                       \n",
      "LRD4A1      LRD11A1              \n",
      "http://192.168.1.38:9106/api/data/uuid/8b901bab-6bb6-5461-a4b4-b2d43c482cc6?endtime=1434092400000&starttime=1434085200000&limit=-1\n",
      "                  Room  Type             Event          Attemps Baseline  \\\n",
      "ActivityID                                                                 \n",
      "LRD4A1      Livingroom  IoDW  SecondaryDoor100  LRD4A1, LRD11A1   LRD9A1   \n",
      "\n",
      "              NewID NewBaseline  \n",
      "ActivityID                       \n",
      "LRD4A1      LRD11A1              \n",
      "http://192.168.1.38:2047/api/data/uuid/e96fe108-fa8d-571a-ae78-13be76b21d48?endtime=1434092400000&starttime=1434085200000&limit=-1\n"
     ]
    }
   ],
   "source": [
    "config_file = \"meta-info/data.json\"\n",
    "\n",
    "# Process and read configurations\n",
    "with open(config_file) as data_file:\n",
    "    conf = json.load(data_file)\n",
    "\n",
    "activities = [\"AllOpen\", \"AllClose\", \"Window50\", \"Window100\", \"MainDoor50\", \"MainDoor100\", \"SecondaryDoor50\", \\\n",
    "              \"SecondaryDoor100\"]\n",
    "room = [\"Livingroom\"]\n",
    "\n",
    "peaks, df = analyze.peak_analysis(activities, room, conf)"
   ]
  },
  {
   "cell_type": "code",
   "execution_count": 5,
   "metadata": {
    "collapsed": false,
    "scrolled": true
   },
   "outputs": [
    {
     "data": {
      "text/html": [
       "<div style=\"max-height:1000px;max-width:1500px;overflow:auto;\">\n",
       "<table border=\"1\" class=\"dataframe\">\n",
       "  <thead>\n",
       "    <tr style=\"text-align: right;\">\n",
       "      <th></th>\n",
       "      <th>Peak</th>\n",
       "      <th>Text_Avg</th>\n",
       "    </tr>\n",
       "  </thead>\n",
       "  <tbody>\n",
       "    <tr>\n",
       "      <th>AllOpen</th>\n",
       "      <td>2447.376473</td>\n",
       "      <td>38.642859</td>\n",
       "    </tr>\n",
       "    <tr>\n",
       "      <th>AllClose</th>\n",
       "      <td>2305.080995</td>\n",
       "      <td>35.748365</td>\n",
       "    </tr>\n",
       "    <tr>\n",
       "      <th>Window50</th>\n",
       "      <td>2264.850714</td>\n",
       "      <td>35.648296</td>\n",
       "    </tr>\n",
       "    <tr>\n",
       "      <th>Window100</th>\n",
       "      <td>2330.520926</td>\n",
       "      <td>36.505836</td>\n",
       "    </tr>\n",
       "    <tr>\n",
       "      <th>MainDoor50</th>\n",
       "      <td>2326.088086</td>\n",
       "      <td>37.061318</td>\n",
       "    </tr>\n",
       "    <tr>\n",
       "      <th>MainDoor100</th>\n",
       "      <td>2449.673344</td>\n",
       "      <td>36.095760</td>\n",
       "    </tr>\n",
       "    <tr>\n",
       "      <th>SecondaryDoor50</th>\n",
       "      <td>2404.828437</td>\n",
       "      <td>38.168053</td>\n",
       "    </tr>\n",
       "    <tr>\n",
       "      <th>SecondaryDoor100</th>\n",
       "      <td>2368.953601</td>\n",
       "      <td>37.058730</td>\n",
       "    </tr>\n",
       "  </tbody>\n",
       "</table>\n",
       "</div>"
      ],
      "text/plain": [
       "                         Peak   Text_Avg\n",
       "AllOpen           2447.376473  38.642859\n",
       "AllClose          2305.080995  35.748365\n",
       "Window50          2264.850714  35.648296\n",
       "Window100         2330.520926  36.505836\n",
       "MainDoor50        2326.088086  37.061318\n",
       "MainDoor100       2449.673344  36.095760\n",
       "SecondaryDoor50   2404.828437  38.168053\n",
       "SecondaryDoor100  2368.953601  37.058730"
      ]
     },
     "execution_count": 5,
     "metadata": {},
     "output_type": "execute_result"
    }
   ],
   "source": [
    "peaks"
   ]
  },
  {
   "cell_type": "code",
   "execution_count": 18,
   "metadata": {
    "collapsed": false
   },
   "outputs": [
    {
     "data": {
      "text/plain": [
       "7141"
      ]
     },
     "execution_count": 18,
     "metadata": {},
     "output_type": "execute_result"
    }
   ],
   "source": [
    "df1 = df[\"Bedroom_AllOpen_Power_lr\"]\n",
    "len(df1[df1>2300])"
   ]
  },
  {
   "cell_type": "code",
   "execution_count": 9,
   "metadata": {
    "collapsed": false
   },
   "outputs": [
    {
     "data": {
      "text/plain": [
       "(-0.5, 7.5)"
      ]
     },
     "execution_count": 9,
     "metadata": {},
     "output_type": "execute_result"
    },
    {
     "data": {
      "image/png": "[encoded data removed]",
      "text/plain": [
       "<matplotlib.figure.Figure at 0xa73ffd2c>"
      ]
     },
     "metadata": {},
     "output_type": "display_data"
    }
   ],
   "source": [
    "fig = plt.figure() # Create matplotlib figure\n",
    "\n",
    "ax = fig.add_subplot(111) # Create matplotlib axes\n",
    "ax2 = ax.twinx() # Create another axes that shares the same x-axis as ax.\n",
    "\n",
    "width = 0.2\n",
    "peaks.Peak.plot(kind='line', color='red', ax=ax, grid=False, legend=False, linewidth=3, marker='o', rot=30)\n",
    "peaks[\"Text_Avg\"].plot(kind='line', color='blue', ax=ax2, grid=False, legend=False, linewidth=3, marker='o', rot=30)\n",
    "ax.set_xlabel(\"Activities\")\n",
    "lims = ax.get_xlim()\n",
    "ax.set_xlim((lims[0]-0.5, lims[-1]+0.5))"
   ]
  },
  {
   "cell_type": "code",
   "execution_count": 7,
   "metadata": {
    "collapsed": false
   },
   "outputs": [
    {
     "data": {
      "text/plain": [
       "(0.0, 7.0)"
      ]
     },
     "execution_count": 7,
     "metadata": {},
     "output_type": "execute_result"
    }
   ],
   "source": [
    "ax.set_xlabel(\"Activities\")\n",
    "ax.set_xlim((-0.5, 7.5))"
   ]
  },
  {
   "cell_type": "code",
   "execution_count": null,
   "metadata": {
    "collapsed": true
   },
   "outputs": [],
   "source": []
  }
 ],
 "metadata": {
  "kernelspec": {
   "display_name": "Python 2",
   "language": "python",
   "name": "python2"
  },
  "language_info": {
   "codemirror_mode": {
    "name": "ipython",
    "version": 2
   },
   "file_extension": ".py",
   "mimetype": "text/x-python",
   "name": "python",
   "nbconvert_exporter": "python",
   "pygments_lexer": "ipython2",
   "version": "2.7.3"
  }
 },
 "nbformat": 4,
 "nbformat_minor": 0
}
